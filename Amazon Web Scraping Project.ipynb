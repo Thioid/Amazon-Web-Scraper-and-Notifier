{
 "cells": [
  {
   "cell_type": "code",
   "execution_count": 2,
   "id": "743835d8",
   "metadata": {},
   "outputs": [],
   "source": [
    "# import libraries\n",
    "\n",
    "from bs4 import BeautifulSoup\n",
    "import requests\n",
    "import smtplib\n",
    "import time\n",
    "import datetime\n"
   ]
  },
  {
   "cell_type": "code",
   "execution_count": 3,
   "id": "d4f3bfaf",
   "metadata": {},
   "outputs": [
    {
     "name": "stdout",
     "output_type": "stream",
     "text": [
      "Apple AirPods Pro (2nd Generation) Wireless Earbuds, Up to 2X More Active Noise Cancelling, Adaptive Transparency, Personalized Spatial Audio, MagSafe Charging Case, Bluetooth Headphones for iPhone\n",
      "\n",
      "                        $229.00\n",
      "                       \n"
     ]
    }
   ],
   "source": [
    "# Connecting to website\n",
    "\n",
    "url = \"https://www.amazon.com/Apple-Generation-Cancelling-Transparency-Personalized/dp/B0BDHWDR12/ref=sr_1_5?crid=EXVBM17DKT76&keywords=airpods+3rd+gen&qid=1670862078&sprefix=airpods+3rd+gen%2Caps%2C114&sr=8-5\"\n",
    "\n",
    "headers = {\"User-Agent\": \"Mozilla/5.0 (Windows NT 10.0; Win64; x64) AppleWebKit/537.36 (KHTML, like Gecko) Chrome/108.0.0.0 Safari/537.36\", \"Accept-Encoding\": \"gzip, deflate, br\", \"Accept\": \"text/html,application/xhtml+xml,application/xml;q=0.9,image/avif,image/webp,image/apng,*/*;q=0.8,application/signed-exchange;v=b3;q=0.9\", \"DNT\":\"1\",\"Connection\":\"close\", \"Upgrade-Insecure-Requests\":\"1\"}\n",
    "\n",
    "page = requests.get(url, headers = headers)\n",
    "\n",
    "soup1 = BeautifulSoup(page.content, \"html.parser\")\n",
    "\n",
    "soup2 = BeautifulSoup(soup1.prettify(), \"html.parser\")\n",
    "\n",
    "title = soup2.find(id=\"productTitle\").get_text().strip()\n",
    "\n",
    "price = soup2.find(\"span\", class_=\"a-offscreen\").get_text()\n",
    "\n",
    "print(title)\n",
    "print(price)"
   ]
  },
  {
   "cell_type": "code",
   "execution_count": 4,
   "id": "a72a38ff",
   "metadata": {},
   "outputs": [
    {
     "name": "stdout",
     "output_type": "stream",
     "text": [
      "Apple AirPods Pro (2nd Generation) Wireless Earbuds, Up to 2X More Active Noise Cancelling, Adaptive Transparency, Personalized Spatial Audio, MagSafe Charging Case, Bluetooth Headphones for iPhone\n",
      "229.00\n"
     ]
    }
   ],
   "source": [
    "price = price.strip()[1:]\n",
    "title = title.strip()\n",
    "\n",
    "print(title)\n",
    "print(price)"
   ]
  },
  {
   "cell_type": "code",
   "execution_count": 5,
   "id": "96efb723",
   "metadata": {},
   "outputs": [
    {
     "name": "stdout",
     "output_type": "stream",
     "text": [
      "2022-12-16\n"
     ]
    }
   ],
   "source": [
    "import datetime\n",
    "\n",
    "today = datetime.date.today()\n",
    "\n",
    "print(today)"
   ]
  },
  {
   "cell_type": "code",
   "execution_count": 6,
   "id": "26c7801b",
   "metadata": {},
   "outputs": [],
   "source": [
    "import csv\n",
    "\n",
    "header = [\"Title\", \"Price\", \"Date\"]\n",
    "data = [title, price, today]\n",
    "\n",
    "with open(\"AmazonWebScraping1.csv\", \"w\", newline = \"\", encoding = \"UTF8\") as f:\n",
    "    writer = csv.writer(f)\n",
    "    writer.writerow(header)\n",
    "    writer.writerow(data)"
   ]
  },
  {
   "cell_type": "code",
   "execution_count": 7,
   "id": "e19adbfb",
   "metadata": {},
   "outputs": [
    {
     "name": "stdout",
     "output_type": "stream",
     "text": [
      "                                               Title  Price        Date\n",
      "0  Apple AirPods Pro (2nd Generation) Wireless Ea...  229.0  2022-12-16\n"
     ]
    }
   ],
   "source": [
    "import pandas as pd\n",
    "\n",
    "data_frame = pd.read_csv(r\"C:\\Users\\isaak\\AmazonWebScraping1.csv\")\n",
    "            \n",
    "print(data_frame)"
   ]
  },
  {
   "cell_type": "code",
   "execution_count": 8,
   "id": "2f46615c",
   "metadata": {},
   "outputs": [],
   "source": [
    "#appending data to the csv\n",
    "\n",
    "with open(\"AmazonWebScraping1.csv\", \"a+\", newline = \"\", encoding = \"UTF8\") as f:\n",
    "    writer = csv.writer(f)\n",
    "    writer.writerow(data)"
   ]
  },
  {
   "cell_type": "code",
   "execution_count": 43,
   "id": "3679dcbc",
   "metadata": {},
   "outputs": [],
   "source": [
    "def price_check():\n",
    "    url = \"https://www.amazon.com/Apple-Generation-Cancelling-Transparency-Personalized/dp/B0BDHWDR12/ref=sr_1_5?crid=EXVBM17DKT76&keywords=airpods+3rd+gen&qid=1670862078&sprefix=airpods+3rd+gen%2Caps%2C114&sr=8-5\"\n",
    "\n",
    "    headers = {\"User-Agent\": \"Mozilla/5.0 (Windows NT 10.0; Win64; x64) AppleWebKit/537.36 (KHTML, like Gecko) Chrome/108.0.0.0 Safari/537.36\", \"Accept-Encoding\": \"gzip, deflate, br\", \"Accept\": \"text/html,application/xhtml+xml,application/xml;q=0.9,image/avif,image/webp,image/apng,*/*;q=0.8,application/signed-exchange;v=b3;q=0.9\", \"DNT\":\"1\",\"Connection\":\"close\", \"Upgrade-Insecure-Requests\":\"1\"}\n",
    "\n",
    "    page = requests.get(url, headers = headers)\n",
    "\n",
    "    soup1 = BeautifulSoup(page.content, \"html.parser\")\n",
    "\n",
    "    soup2 = BeautifulSoup(soup1.prettify(), \"html.parser\")\n",
    "\n",
    "    title = soup2.find(id=\"productTitle\").get_text().strip()\n",
    "\n",
    "    price = soup2.find(\"span\", class_=\"a-offscreen\").get_text()\n",
    "    \n",
    "    price = price.strip()[1:]\n",
    "    title = title.strip()\n",
    "\n",
    "    import datetime\n",
    "\n",
    "    today = datetime.date.today()\n",
    "\n",
    "    print(today)\n",
    "    \n",
    "    import csv\n",
    "\n",
    "    header = [\"Title\", \"Price\", \"Date\"]\n",
    "    data = [title, price, today]\n",
    "    \n",
    "    with open(\"AmazonWebScraping1.csv\", \"a+\", newline = \"\", encoding = \"UTF8\") as f:\n",
    "        writer = csv.writer(f)\n",
    "        writer.writerow(data)\n",
    "        \n",
    "    if(float(price) < 250): #change price here if you changed the URL. This controls when to send you a notification\n",
    "        send_mail()"
   ]
  },
  {
   "cell_type": "code",
   "execution_count": 44,
   "id": "9fb41586",
   "metadata": {
    "scrolled": true
   },
   "outputs": [
    {
     "name": "stdout",
     "output_type": "stream",
     "text": [
      "2022-12-17\n",
      "Type your email here and press enter: xxx@gmail.com\n",
      "Type your 16 character App password and press enter: \n"
     ]
    }
   ],
   "source": [
    "while(True):\n",
    "    price_check()\n",
    "    #time.sleep(86400) #change the time here to change how often the notification is sent.\n",
    "    break"
   ]
  },
  {
   "cell_type": "code",
   "execution_count": 11,
   "id": "a88dda94",
   "metadata": {},
   "outputs": [
    {
     "name": "stdout",
     "output_type": "stream",
     "text": [
      "                                               Title  Price        Date\n",
      "0  Apple AirPods Pro (2nd Generation) Wireless Ea...  229.0  2022-12-16\n",
      "1  Apple AirPods Pro (2nd Generation) Wireless Ea...  229.0  2022-12-16\n",
      "2  Apple AirPods Pro (2nd Generation) Wireless Ea...  229.0  2022-12-16\n"
     ]
    }
   ],
   "source": [
    "import pandas as pd\n",
    "\n",
    "data_frame = pd.read_csv(r\"C:\\Users\\isaak\\AmazonWebScraping1.csv\")\n",
    "            \n",
    "print(data_frame)"
   ]
  },
  {
   "cell_type": "code",
   "execution_count": 45,
   "id": "e5c4fe3d",
   "metadata": {},
   "outputs": [],
   "source": [
    "import smtplib, ssl\n",
    "\n",
    "#NOTE!!! To automated the process and give yourself a notification whenever you want without having to login\n",
    "#set the sender_email and password already, without having to input something\n",
    "\n",
    "def send_mail():\n",
    "    smtp_server = \"smtp.gmail.com\"\n",
    "    port = 587  # For starttls\n",
    "    #sender_email = \"xxx@gmail.com\" #your email here\n",
    "    #password = xxx\n",
    "    \n",
    "    sender_email = input(\"Type your email here and press enter: \")\n",
    "    password = input(\"Type your 16 character App password and press enter: \")\n",
    "\n",
    "    # Create a secure SSL context\n",
    "    context = ssl.create_default_context()\n",
    "\n",
    "    # Try to log in to server and send email\n",
    "\n",
    "    server = smtplib.SMTP(smtp_server,port)\n",
    "    server.ehlo()\n",
    "    server.starttls(context=context) # Secure the connection\n",
    "    server.ehlo()\n",
    "    server.login(sender_email, password)\n",
    "\n",
    "    # TODO: Send email here\n",
    "    #sender_email = \"isaakmailbox2@gmail.com\"\n",
    "    receiver_email = \"isaakmailbox2@gmail.com\"\n",
    "    message = \"\"\"\\\n",
    "    Subject: Amazon product\n",
    "\n",
    "    The product you want to buy is finally the below the price you wanted!\"\"\"\n",
    "\n",
    "    context = ssl.create_default_context()\n",
    "    with smtplib.SMTP(smtp_server, port) as server:\n",
    "        server.ehlo()  # Can be omitted\n",
    "        server.starttls(context=context)\n",
    "        server.ehlo()  # Can be omitted\n",
    "        server.login(sender_email, password)\n",
    "        server.sendmail(sender_email, receiver_email, message)\n"
   ]
  },
  {
   "cell_type": "code",
   "execution_count": null,
   "id": "e4731f2a",
   "metadata": {},
   "outputs": [],
   "source": []
  }
 ],
 "metadata": {
  "kernelspec": {
   "display_name": "Python 3 (ipykernel)",
   "language": "python",
   "name": "python3"
  },
  "language_info": {
   "codemirror_mode": {
    "name": "ipython",
    "version": 3
   },
   "file_extension": ".py",
   "mimetype": "text/x-python",
   "name": "python",
   "nbconvert_exporter": "python",
   "pygments_lexer": "ipython3",
   "version": "3.9.13"
  },
  "vscode": {
   "interpreter": {
    "hash": "9ccadb6a596dfbb76ed2d7f3d15d9e335bae29fd17685b99c248e866145caace"
   }
  }
 },
 "nbformat": 4,
 "nbformat_minor": 5
}
